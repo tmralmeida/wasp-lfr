{
 "cells": [
  {
   "cell_type": "code",
   "execution_count": 1,
   "metadata": {},
   "outputs": [
    {
     "ename": "ModuleNotFoundError",
     "evalue": "No module named 'tensorflow'",
     "output_type": "error",
     "traceback": [
      "\u001b[0;31m---------------------------------------------------------------------------\u001b[0m",
      "\u001b[0;31mModuleNotFoundError\u001b[0m                       Traceback (most recent call last)",
      "\u001b[0;32m<ipython-input-1-966405710adb>\u001b[0m in \u001b[0;36m<module>\u001b[0;34m\u001b[0m\n\u001b[1;32m      1\u001b[0m \u001b[0;32mimport\u001b[0m \u001b[0mnumpy\u001b[0m \u001b[0;32mas\u001b[0m \u001b[0mnp\u001b[0m\u001b[0;34m\u001b[0m\u001b[0;34m\u001b[0m\u001b[0m\n\u001b[1;32m      2\u001b[0m \u001b[0;32mimport\u001b[0m \u001b[0mmatplotlib\u001b[0m\u001b[0;34m.\u001b[0m\u001b[0mpyplot\u001b[0m \u001b[0;32mas\u001b[0m \u001b[0mplt\u001b[0m\u001b[0;34m\u001b[0m\u001b[0;34m\u001b[0m\u001b[0m\n\u001b[0;32m----> 3\u001b[0;31m \u001b[0;32mimport\u001b[0m \u001b[0mtensorflow\u001b[0m \u001b[0;32mas\u001b[0m \u001b[0mtf\u001b[0m\u001b[0;34m\u001b[0m\u001b[0;34m\u001b[0m\u001b[0m\n\u001b[0m",
      "\u001b[0;31mModuleNotFoundError\u001b[0m: No module named 'tensorflow'"
     ]
    }
   ],
   "source": [
    "import numpy as np\n",
    "import matplotlib.pyplot as plt\n",
    "import tensorflow as tf"
   ]
  },
  {
   "cell_type": "code",
   "execution_count": null,
   "metadata": {},
   "outputs": [],
   "source": [
    "def unpickle(file):\n",
    "    import pickle\n",
    "    with open(file, 'rb') as fo:\n",
    "        dict = pickle.load(fo, encoding='bytes')\n",
    "    return dict"
   ]
  },
  {
   "cell_type": "code",
   "execution_count": 3,
   "metadata": {},
   "outputs": [],
   "source": [
    "TRAIN_FILES = ['data_batch_1', 'data_batch_2', 'data_batch_3', 'data_batch_4', 'data_batch_5']\n",
    "TEST_FILE = ['test_batch']"
   ]
  },
  {
   "cell_type": "code",
   "execution_count": 4,
   "metadata": {},
   "outputs": [],
   "source": [
    "batch1 = unpickle('data/' + TRAIN_FILES[0]) \n",
    "batch2 = unpickle('data/' + TRAIN_FILES[1])\n",
    "batch3 = unpickle('data/' + TRAIN_FILES[2])\n",
    "batch4 = unpickle('data/' + TRAIN_FILES[3])\n",
    "batch5 = unpickle('data/' + TRAIN_FILES[4])"
   ]
  },
  {
   "cell_type": "markdown",
   "metadata": {},
   "source": [
    "## Metadata"
   ]
  },
  {
   "cell_type": "code",
   "execution_count": 5,
   "metadata": {},
   "outputs": [
    {
     "data": {
      "text/plain": [
       "[b'airplane',\n",
       " b'automobile',\n",
       " b'bird',\n",
       " b'cat',\n",
       " b'deer',\n",
       " b'dog',\n",
       " b'frog',\n",
       " b'horse',\n",
       " b'ship',\n",
       " b'truck']"
      ]
     },
     "execution_count": 5,
     "metadata": {},
     "output_type": "execute_result"
    }
   ],
   "source": [
    "meta_data = unpickle('data/batches.meta')\n",
    "meta_data[b'label_names']"
   ]
  },
  {
   "cell_type": "markdown",
   "metadata": {},
   "source": [
    "## Getting ready the data"
   ]
  },
  {
   "cell_type": "code",
   "execution_count": 6,
   "metadata": {},
   "outputs": [],
   "source": [
    "labels_train = np.array([])\n",
    "b1_label = np.asarray(batch1[b'labels']).reshape(-1, 1)\n",
    "b2_label = np.asarray(batch2[b'labels']).reshape(-1, 1)\n",
    "b3_label = np.asarray(batch3[b'labels']).reshape(-1, 1)\n",
    "b4_label = np.asarray(batch4[b'labels']).reshape(-1, 1)\n",
    "b5_label = np.asarray(batch5[b'labels']).reshape(-1, 1)\n",
    "\n",
    "labels_train = np.concatenate((b1_label, b2_label, b3_label,\n",
    "                              b4_label, b5_label), axis=0)"
   ]
  },
  {
   "cell_type": "code",
   "execution_count": 7,
   "metadata": {},
   "outputs": [],
   "source": [
    "img_train = np.array([])\n",
    "b1_img = batch1[b'data']\n",
    "b2_img = batch2[b'data']\n",
    "b3_img = batch3[b'data']\n",
    "b4_img = batch4[b'data']\n",
    "b5_img = batch5[b'data']\n",
    "\n",
    "img_train = np.concatenate((b1_img, b2_img, b3_img,\n",
    "                           b4_img, b5_img), axis=0)"
   ]
  },
  {
   "cell_type": "code",
   "execution_count": 58,
   "metadata": {},
   "outputs": [],
   "source": [
    "def show_img(img):\n",
    "    plt.imshow(img, cmap='gray')\n",
    "    plt.show()"
   ]
  },
  {
   "cell_type": "code",
   "execution_count": 9,
   "metadata": {},
   "outputs": [],
   "source": [
    "def vector2image(x, shape=32):\n",
    "    # Check dimensions of the input array\n",
    "    assert x.shape[1]==(shape**2)*3, 'Dimensions of the input array mismatched'\n",
    "    \n",
    "    x_reshaped = np.zeros([x.shape[0], shape, shape, 3], dtype=np.uint8)\n",
    "\n",
    "    for r in range(x.shape[0]):\n",
    "        img = x[r, :].reshape(-1, 1)\n",
    "        img_chunked = np.array_split(img, 3)\n",
    "\n",
    "        for i in range(3):\n",
    "            img_channel = img_chunked[i].reshape(shape, shape)\n",
    "            x_reshaped[r, :, :, i] = img_channel\n",
    "\n",
    "    return x_reshaped"
   ]
  },
  {
   "cell_type": "code",
   "execution_count": 10,
   "metadata": {
    "scrolled": true
   },
   "outputs": [],
   "source": [
    "X = vector2image(img_train)"
   ]
  },
  {
   "cell_type": "code",
   "execution_count": 37,
   "metadata": {
    "scrolled": true
   },
   "outputs": [
    {
     "data": {
      "image/png": "[encoded data removed]",
      "text/plain": [
       "<Figure size 432x288 with 1 Axes>"
      ]
     },
     "metadata": {
      "needs_background": "light"
     },
     "output_type": "display_data"
    },
    {
     "name": "stdout",
     "output_type": "stream",
     "text": [
      "Label: b'horse'\n"
     ]
    }
   ],
   "source": [
    "idx = 131\n",
    "img = X[idx, :,:,:]\n",
    "img.shape\n",
    "show_img(X[idx,:,:,:])\n",
    "print('Label: {}'.format(meta_data[b'label_names'][labels_train[idx][0]]))"
   ]
  },
  {
   "cell_type": "markdown",
   "metadata": {},
   "source": [
    "## Cropped data: 28x28 images"
   ]
  },
  {
   "cell_type": "code",
   "execution_count": 63,
   "metadata": {},
   "outputs": [],
   "source": [
    "def crop_data(img_ds, size=28):\n",
    "    img_crop_gray = np.zeros([img_ds.shape[0], size, size, 1], dtype=np.uint8)\n",
    "\n",
    "    for r in range(img_ds.shape[0]):\n",
    "        aux_crop =  tf.image.random_crop(img_ds[r, :, :, :], [size, size, 3], seed=None, name=None)\n",
    "        aux_gray = tf.image.rgb_to_grayscale(aux_crop)\n",
    "        img_crop_gray[r, :, :, :] = aux_gray\n",
    "        \n",
    "    img_crop_gray = img_crop_gray / np.max(img_crop_gray)\n",
    "    \n",
    "    return img_crop_gray"
   ]
  },
  {
   "cell_type": "code",
   "execution_count": 64,
   "metadata": {},
   "outputs": [],
   "source": [
    "X_crop = crop_data(X)"
   ]
  },
  {
   "cell_type": "code",
   "execution_count": 65,
   "metadata": {},
   "outputs": [
    {
     "data": {
      "text/plain": [
       "(50000, 28, 28, 1)"
      ]
     },
     "execution_count": 65,
     "metadata": {},
     "output_type": "execute_result"
    }
   ],
   "source": [
    "X_crop.shape"
   ]
  },
  {
   "cell_type": "code",
   "execution_count": 66,
   "metadata": {},
   "outputs": [
    {
     "data": {
      "image/png": "[encoded data removed]",
      "text/plain": [
       "<Figure size 432x288 with 1 Axes>"
      ]
     },
     "metadata": {
      "needs_background": "light"
     },
     "output_type": "display_data"
    }
   ],
   "source": [
    "show_img(X_crop[131,:,:,:])"
   ]
  },
  {
   "cell_type": "markdown",
   "metadata": {},
   "source": [
    "#### Convert patches to grayscale"
   ]
  },
  {
   "cell_type": "code",
   "execution_count": null,
   "metadata": {},
   "outputs": [],
   "source": []
  }
 ],
 "metadata": {
  "kernelspec": {
   "display_name": "Python 3",
   "language": "python",
   "name": "python3"
  },
  "language_info": {
   "codemirror_mode": {
    "name": "ipython",
    "version": 3
   },
   "file_extension": ".py",
   "mimetype": "text/x-python",
   "name": "python",
   "nbconvert_exporter": "python",
   "pygments_lexer": "ipython3",
   "version": "3.7.9"
  }
 },
 "nbformat": 4,
 "nbformat_minor": 4
}
